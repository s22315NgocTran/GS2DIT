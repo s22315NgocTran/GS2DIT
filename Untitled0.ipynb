{
  "nbformat": 4,
  "nbformat_minor": 0,
  "metadata": {
    "colab": {
      "provenance": [],
      "authorship_tag": "ABX9TyNCJ6W7z/7x9MazswTlVsqr",
      "include_colab_link": true
    },
    "kernelspec": {
      "name": "python3",
      "display_name": "Python 3"
    },
    "language_info": {
      "name": "python"
    }
  },
  "cells": [
    {
      "cell_type": "markdown",
      "metadata": {
        "id": "view-in-github",
        "colab_type": "text"
      },
      "source": [
        "<a href=\"https://colab.research.google.com/github/s22315NgocTran/GS2DIT/blob/main/Untitled0.ipynb\" target=\"_parent\"><img src=\"https://colab.research.google.com/assets/colab-badge.svg\" alt=\"Open In Colab\"/></a>"
      ]
    },
    {
      "cell_type": "code",
      "execution_count": 1,
      "metadata": {
        "colab": {
          "base_uri": "https://localhost:8080/"
        },
        "id": "sAMqGbsjEsnF",
        "outputId": "e9ec88a6-8c3b-4ec0-d7a6-59ce6d376931"
      },
      "outputs": [
        {
          "output_type": "execute_result",
          "data": {
            "text/plain": [
              "3"
            ]
          },
          "metadata": {},
          "execution_count": 1
        }
      ],
      "source": [
        "a=1\n",
        "b=2\n",
        "a+b"
      ]
    },
    {
      "cell_type": "markdown",
      "source": [
        "print(**„hello world”**)\n",
        "print(*„hello world”*)\n",
        "print(```„hello world”```)"
      ],
      "metadata": {
        "id": "0NEGWZx5E0DB"
      }
    }
  ]
}